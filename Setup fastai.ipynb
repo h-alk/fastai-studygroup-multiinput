{
 "cells": [
  {
   "cell_type": "markdown",
   "metadata": {
    "colab_type": "text",
    "id": "okzo2t3TyqQj"
   },
   "source": [
    "# Setup Colab\n"
   ]
  },
  {
   "cell_type": "code",
   "execution_count": null,
   "metadata": {},
   "outputs": [],
   "source": [
    "!apt-get install -y -qq software-properties-common python-software-properties module-init-tools\n",
    "!wget https://launchpad.net/~alessandro-strada/+archive/ubuntu/google-drive-ocamlfuse-beta/+build/15331130/+files/google-drive-ocamlfuse_0.7.0-0ubuntu1_amd64.deb\n",
    "!dpkg -i google-drive-ocamlfuse_0.7.0-0ubuntu1_amd64.deb\n",
    "!apt-get install -f\n",
    "!apt-get -y install -qq fuse"
   ]
  },
  {
   "cell_type": "code",
   "execution_count": null,
   "metadata": {
    "colab": {
     "base_uri": "https://localhost:8080/",
     "height": 2366
    },
    "colab_type": "code",
    "executionInfo": {
     "elapsed": 727295,
     "status": "ok",
     "timestamp": 1537085899333,
     "user": {
      "displayName": "Ibrahim El-Fayoumi",
      "photoUrl": "https://lh3.googleusercontent.com/a/default-user=s128",
      "userId": "112611462221690119231"
     },
     "user_tz": -480
    },
    "id": "EOi-igCEyvP-",
    "outputId": "159aa38e-34aa-4e25-ce82-244c0cb97f4c"
   },
   "outputs": [],
   "source": [
    "from google.colab import auth\n",
    "auth.authenticate_user()\n",
    "from oauth2client.client import GoogleCredentials\n",
    "creds = GoogleCredentials.get_application_default()\n",
    "import getpass\n",
    "!google-drive-ocamlfuse -headless -id={creds.client_id} -secret={creds.client_secret} < /dev/null 2>&1 | grep URL\n",
    "vcode = getpass.getpass()\n",
    "!echo {vcode} | google-drive-ocamlfuse -headless -id={creds.client_id} -secret={creds.client_secret}\n",
    "\n",
    "!mkdir -p drive\n",
    "!google-drive-ocamlfuse drive -o nonempty"
   ]
  },
  {
   "cell_type": "markdown",
   "metadata": {
    "colab_type": "text",
    "id": "7Z5CIRuSy3kv"
   },
   "source": [
    "#Fast.AI Setup\n",
    "!pip install get+https://github.com/fastai/fastai.git\n"
   ]
  },
  {
   "cell_type": "code",
   "execution_count": null,
   "metadata": {
    "colab": {
     "base_uri": "https://localhost:8080/",
     "height": 102
    },
    "colab_type": "code",
    "executionInfo": {
     "elapsed": 11462,
     "status": "ok",
     "timestamp": 1537085945824,
     "user": {
      "displayName": "Ibrahim El-Fayoumi",
      "photoUrl": "https://lh3.googleusercontent.com/a/default-user=s128",
      "userId": "112611462221690119231"
     },
     "user_tz": -480
    },
    "id": "xWBn9w2HzA5A",
    "outputId": "580a4fa9-adf4-444c-be4b-a66c4642d210"
   },
   "outputs": [],
   "source": [
    "import os\n",
    "os.chdir('/content')\n",
    "!git clone https://github.com/fastai/fastai.git\n"
   ]
  },
  {
   "cell_type": "code",
   "execution_count": null,
   "metadata": {
    "colab": {
     "base_uri": "https://localhost:8080/",
     "height": 34
    },
    "colab_type": "code",
    "executionInfo": {
     "elapsed": 2970,
     "status": "ok",
     "timestamp": 1536822740466,
     "user": {
      "displayName": "Ibrahim El-Fayoumi",
      "photoUrl": "https://lh3.googleusercontent.com/a/default-user=s128",
      "userId": "112611462221690119231"
     },
     "user_tz": -480
    },
    "id": "_zo8bPt1zC2I",
    "outputId": "eabc3a98-220f-4a7f-afff-0cf0c6c94028"
   },
   "outputs": [],
   "source": [
    "#Fast.AI Setup\n",
    "os.chdir(\"fastai\")\n",
    "!git pull"
   ]
  },
  {
   "cell_type": "code",
   "execution_count": null,
   "metadata": {
    "colab": {},
    "colab_type": "code",
    "id": "5dkPoNm3cFu6"
   },
   "outputs": [],
   "source": [
    "# http://pytorch.org/\n",
    "from os import path\n",
    "from wheel.pep425tags import get_abbr_impl, get_impl_ver, get_abi_tag\n",
    "platform = '{}{}-{}'.format(get_abbr_impl(), get_impl_ver(), get_abi_tag())\n",
    "\n",
    "accelerator = 'cu80' if path.exists('/opt/bin/nvidia-smi') else 'cpu'\n",
    "\n",
    "!pip3 install -q http://download.pytorch.org/whl/{accelerator}/torch-0.3.0.post4-{platform}-linux_x86_64.whl torchvision\n",
    "import torch"
   ]
  },
  {
   "cell_type": "code",
   "execution_count": null,
   "metadata": {
    "colab": {
     "base_uri": "https://localhost:8080/",
     "height": 853
    },
    "colab_type": "code",
    "executionInfo": {
     "elapsed": 4063,
     "status": "ok",
     "timestamp": 1536823121726,
     "user": {
      "displayName": "Ibrahim El-Fayoumi",
      "photoUrl": "https://lh3.googleusercontent.com/a/default-user=s128",
      "userId": "112611462221690119231"
     },
     "user_tz": -480
    },
    "id": "cMqwFOTKdQqd",
    "outputId": "a624a480-6bea-40f9-8e98-29cc17427ec5"
   },
   "outputs": [],
   "source": [
    "!pip3 install ipywidgets==6.0.0"
   ]
  },
  {
   "cell_type": "code",
   "execution_count": null,
   "metadata": {
    "colab": {
     "base_uri": "https://localhost:8080/",
     "height": 2383
    },
    "colab_type": "code",
    "executionInfo": {
     "elapsed": 14079,
     "status": "ok",
     "timestamp": 1536823355389,
     "user": {
      "displayName": "Ibrahim El-Fayoumi",
      "photoUrl": "https://lh3.googleusercontent.com/a/default-user=s128",
      "userId": "112611462221690119231"
     },
     "user_tz": -480
    },
    "id": "PluqycdMdizc",
    "outputId": "b5563619-b222-4693-f853-9178367b53f9"
   },
   "outputs": [],
   "source": [
    "os.chdir('/content/fastai')\n",
    "!pip3 install -r requirements.txt\n",
    "!python setup.py develop"
   ]
  },
  {
   "cell_type": "code",
   "execution_count": null,
   "metadata": {
    "colab": {
     "base_uri": "https://localhost:8080/",
     "height": 12444
    },
    "colab_type": "code",
    "executionInfo": {
     "elapsed": 30514,
     "status": "ok",
     "timestamp": 1536823405900,
     "user": {
      "displayName": "Ibrahim El-Fayoumi",
      "photoUrl": "https://lh3.googleusercontent.com/a/default-user=s128",
      "userId": "112611462221690119231"
     },
     "user_tz": -480
    },
    "id": "K0_q4BqXegAG",
    "outputId": "f1e8b812-9416-4c44-f376-2e675f65040c"
   },
   "outputs": [],
   "source": [
    "!pip3 install -U scipy\n",
    "!python3 setup.py install"
   ]
  },
  {
   "cell_type": "code",
   "execution_count": null,
   "metadata": {
    "colab": {
     "base_uri": "https://localhost:8080/",
     "height": 34
    },
    "colab_type": "code",
    "executionInfo": {
     "elapsed": 2931,
     "status": "ok",
     "timestamp": 1536823674574,
     "user": {
      "displayName": "Ibrahim El-Fayoumi",
      "photoUrl": "https://lh3.googleusercontent.com/a/default-user=s128",
      "userId": "112611462221690119231"
     },
     "user_tz": -480
    },
    "id": "_aTMpFmKzSU5",
    "outputId": "d9e2752c-7007-4142-d459-7dcc60cbf659"
   },
   "outputs": [],
   "source": [
    "!cd /content/drive/data/rosmann\n",
    "\n"
   ]
  },
  {
   "cell_type": "code",
   "execution_count": null,
   "metadata": {
    "colab": {},
    "colab_type": "code",
    "id": "9yvxJli409ku"
   },
   "outputs": [],
   "source": []
  }
 ],
 "metadata": {
  "colab": {
   "collapsed_sections": [],
   "name": "Setup fastai.ipynb",
   "provenance": [
    {
     "file_id": "1C5Ss0bYdxIglqA9jmkT8xVXMD2G09ZkS",
     "timestamp": 1535615319019
    }
   ],
   "version": "0.3.2"
  },
  "kernelspec": {
   "display_name": "Python 3",
   "language": "python",
   "name": "python3"
  },
  "language_info": {
   "codemirror_mode": {
    "name": "ipython",
    "version": 3
   },
   "file_extension": ".py",
   "mimetype": "text/x-python",
   "name": "python",
   "nbconvert_exporter": "python",
   "pygments_lexer": "ipython3",
   "version": "3.6.5"
  }
 },
 "nbformat": 4,
 "nbformat_minor": 1
}
